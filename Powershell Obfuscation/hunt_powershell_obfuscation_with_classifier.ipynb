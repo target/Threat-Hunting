{
 "cells": [
  {
   "cell_type": "markdown",
   "id": "67e9641e",
   "metadata": {},
   "source": [
    "# Powershell Obfuscation Support Vector Classifier"
   ]
  },
  {
   "cell_type": "markdown",
   "id": "c297fc40",
   "metadata": {},
   "source": [
    "Supervised learning classifier, that attempts to classify Powershell commands as obfuscated|non-obfuscated based\n",
    "on counts of various characters.\n",
    "\n",
    "Prework: \n",
    "This notebook will ingest a CSV file of Powershell commands, with all commandline arguments.\n",
    "This can be obtained from EID 1 (Sysmon) or 800.\n",
    "Specifically, look for Powershell commands run by a user (not an automated process), and did NOT run from a .ps1 script\n",
    "(meaning it ran direct from shell, which is more consistent with adversary activity).  This should consist of benign, non-obfuscated commands.  Concatenate and de-duplicate this list.  The column name should be \"commandline\".  This will be the basis for our training set.\n",
    "\n",
    "Pseudo-search logic:\n",
    "    eventid:(800|1) userID:<yourIDformat> NOT commandline:*.ps1*\n",
    "    \n",
    "Next: Create a list of obfuscated Powershell commands.  You can collect these from public sources, or generate your own with a tool like Invoke-Obfuscation (https://github.com/danielbohannon/Invoke-Obfuscation).  Append this list to your existing list of (benign) Powershell commands.\n",
    "    \n",
    "Finally: append a new column called \"isobfuscated\" that takes a value of 1 for \"obfuscated\" and 0 for \"not obfuscated\".  The entries from the first (benign) list should all be 0, and the obfuscated list should all be 1.  \n",
    "    \n",
    "This finalized list will be ingested as our testing/training dataset.  We will use sklearn's fit() function for training, and the predict() function for testing. "
   ]
  },
  {
   "cell_type": "code",
   "execution_count": null,
   "id": "5ae0d0da",
   "metadata": {},
   "outputs": [],
   "source": [
    "# Import things.\n",
    "\n",
    "import plotly\n",
    "import plotly.express as px\n",
    "from plotly.offline import plot\n",
    "import pandas as pd\n",
    "import sys\n",
    "import numpy as np\n",
    "import os\n",
    "from sklearn.svm import SVC\n",
    "from sklearn.metrics import precision_score\n",
    "from sklearn.metrics import recall_score\n",
    "from sklearn.metrics import f1_score\n",
    "pd.options.display.html.use_mathjax = False"
   ]
  },
  {
   "cell_type": "markdown",
   "id": "1e22cdc8",
   "metadata": {},
   "source": [
    "# Part I: Training and Testing"
   ]
  },
  {
   "cell_type": "code",
   "execution_count": null,
   "id": "5d0bb8e9",
   "metadata": {},
   "outputs": [],
   "source": [
    "# Ingest the training dataset you built above.\n",
    "\n",
    "file = input(\"Enter the location of a CSV file:\")\n",
    "df = pd.read_csv(file, encoding=\"ANSI\", header=0)\n",
    "\n",
    "# Strip off any leading/trailing whitespace\n",
    "df['commandline'] = df['commandline'].str.strip()\n",
    "\n",
    "# Create a \"length\" column, containing the string length of each command\n",
    "df['length'] = df['commandline'].str.len()\n",
    "\n",
    "df = df.dropna(axis=0)\n",
    "print('Ingested ' + str(df.shape[0]) + ' lines of data')"
   ]
  },
  {
   "cell_type": "code",
   "execution_count": null,
   "id": "c12b0514",
   "metadata": {},
   "outputs": [],
   "source": [
    "# The meat of the story: get a count of various characters, to use as features of our classifier.\n",
    "# This will form the basis for our training dataset.\n",
    "df['semicoloncount'] = df['commandline'].str.count('\\;')\n",
    "df['doublequotecount'] = df['commandline'].str.count('\\\"')\n",
    "df['singlequotecount'] = df['commandline'].str.count('\\'')\n",
    "df['backtickcount'] = df['commandline'].str.count('\\`')\n",
    "df['plussigncount'] = df['commandline'].str.count('\\+')\n",
    "df['leftbracecount'] = df['commandline'].str.count('\\{')\n",
    "df['leftbracketcount'] = df['commandline'].str.count('\\[')\n",
    "df['leftparencount'] = df['commandline'].str.count('\\(')\n",
    "df['pipecount'] = df['commandline'].str.count('\\|')\n",
    "df['alphacount'] = df['commandline'].str.count('[a-zA-Z]')\n",
    "df['camelswitchcount'] = df['commandline'].str.count('[a-z][A-Z]|[A-Z][a-z]')\n",
    "df['dollarsigncount'] = df['commandline'].str.count('\\$')\n",
    "df['digitcount'] = df['commandline'].str.count('[0-9]')"
   ]
  },
  {
   "cell_type": "code",
   "execution_count": null,
   "id": "7acfe256",
   "metadata": {},
   "outputs": [],
   "source": [
    "# Scatterplot the length of command vs count of alpha characters from the training set.  Should be strongly linear.\n",
    "df['isobfuscated'] = df['isobfuscated'].astype(str) #for categorical graphing purposes\n",
    "fig = px.scatter(df, x='length', y='alphacount', trendline='ols', color='isobfuscated', hover_name='commandline')\n",
    "fig.show()\n",
    "df['isobfuscated'] = df['isobfuscated'].astype(int) #flip this back to numeric for use in classifier"
   ]
  },
  {
   "cell_type": "code",
   "execution_count": null,
   "id": "e2cda0d7",
   "metadata": {},
   "outputs": [],
   "source": [
    "# Build a testing dataset, as a percentage size of the original dataset.\n",
    "\n",
    "# Pull out a chosen number of rows of obfuscated commmands, and the same amount of \n",
    "# rows of non-obfuscated commands into their own df, and delete from the original df\n",
    "\n",
    "percentagesize = 20 #Pct size of the training dataset to be pulled into the test set.  Adjust as necessary.\n",
    "\n",
    "obfuscated = df[df['isobfuscated'] == 1]\n",
    "obfuscatedcount = len(obfuscated)\n",
    "nonobfuscated = df[df['isobfuscated'] == 0]\n",
    "nonobfuscatedcount = len(nonobfuscated)\n",
    "\n",
    "ob_pct = int(obfuscatedcount * (percentagesize/100))\n",
    "non_ob_pct = int(nonobfuscatedcount * (percentagesize/100))\n",
    "\n",
    "ob_to_remove = obfuscated.iloc[0:ob_pct]\n",
    "non_ob_to_remove = nonobfuscated.iloc[0:non_ob_pct]\n",
    "\n",
    "df.drop(obfuscated.index[0:ob_pct])\n",
    "df.drop(nonobfuscated.index[0:non_ob_pct])\n",
    "\n",
    "testing_df = ob_to_remove.append(non_ob_to_remove, ignore_index=True)\n",
    "\n",
    "print('Created test dataset of ' + str(testing_df.shape[0]) + ' lines of data')"
   ]
  },
  {
   "cell_type": "code",
   "execution_count": null,
   "id": "422aa384",
   "metadata": {},
   "outputs": [],
   "source": [
    "# Set the training features ('X') and training label ('y') for the Training and Testing datasets\n",
    "\n",
    "# Training set\n",
    "y = df['isobfuscated']\n",
    "x = df[['length', 'semicoloncount', 'doublequotecount', 'singlequotecount', 'backtickcount', 'plussigncount', 'leftbracecount','leftbracketcount', 'leftparencount', 'pipecount', 'alphacount', 'camelswitchcount', 'dollarsigncount', 'digitcount']]\n",
    "\n",
    "# Testing set\n",
    "y_test = testing_df['isobfuscated']\n",
    "x_test = testing_df[['length', 'semicoloncount', 'doublequotecount', 'singlequotecount', 'backtickcount', 'plussigncount', 'leftbracecount','leftbracketcount', 'leftparencount', 'pipecount', 'alphacount', 'camelswitchcount', 'dollarsigncount', 'digitcount']]"
   ]
  },
  {
   "cell_type": "code",
   "execution_count": null,
   "id": "1003fce0",
   "metadata": {},
   "outputs": [],
   "source": [
    "# Build and train a Support Vector Classifier, with the fit() function.  We'll use a Linear model,\n",
    "# since prior research suggests the data relationship is strongly linear.\n",
    "\n",
    "svc = SVC(kernel='linear', verbose=True)\n",
    "svc.fit(x, y)"
   ]
  },
  {
   "attachments": {
    "Precisionrecall.svg.png": {
     "image/png": "[encoded data removed]"
    }
   },
   "cell_type": "markdown",
   "id": "ad686234",
   "metadata": {},
   "source": [
    "![Precisionrecall.svg.png](attachment:Precisionrecall.svg.png)"
   ]
  },
  {
   "cell_type": "code",
   "execution_count": null,
   "id": "7bf16cee",
   "metadata": {},
   "outputs": [],
   "source": [
    "# Use the predict() function on the testing data and compare to the actual value of y_test .\n",
    "# Calculate the precision, recall, and F1 scores for this classifier.\n",
    "\n",
    "y_pred = svc.predict(x_test)\n",
    "testing_df['prediction'] = y_pred\n",
    "\n",
    "precision = precision_score(y_test, y_pred, average='binary')\n",
    "recall = recall_score(y_test, y_pred, average='binary')\n",
    "f1 = f1_score(y_test, y_pred, average='binary')\n",
    "\n",
    "print(f'Classifier Results on Test dataset using {len(y_test)} samples:')\n",
    "print(f'Testing Precision (true positives/identified positives) is ' + str(100.0 * precision) + '%')\n",
    "print(f'Testing Recall (true positives found/total number of true positives) is ' + str(100.0 * recall) + '%' )\n",
    "print(f'Testing F1 Score (harmonic mean of precision and recall) ' + str(100.0 * f1) + '%' )"
   ]
  },
  {
   "cell_type": "code",
   "execution_count": null,
   "id": "1725e505",
   "metadata": {},
   "outputs": [],
   "source": [
    "# Get the results of applying the classifier to the testing set\n",
    "def get_pred_result(pred, actual):\n",
    "    if pred == 1 and actual == 1:\n",
    "        return \"True Positive\"\n",
    "    if pred == 1 and actual == 0:\n",
    "        return \"False Positive\"\n",
    "    if pred == 0 and actual == 1:\n",
    "        return \"False Negative\"\n",
    "    if pred == 0 and actual == 0:\n",
    "        return \"True Negative\"\n",
    "    \n",
    "testing_df['result'] = testing_df.apply(lambda x: get_pred_result(x.prediction, x.isobfuscated), axis=1)\n"
   ]
  },
  {
   "cell_type": "code",
   "execution_count": null,
   "id": "61bae82e",
   "metadata": {},
   "outputs": [],
   "source": [
    "# Plot the results of the testing data\n",
    "fig2 = px.scatter(testing_df, x='length', y='alphacount', color='result', hover_name='commandline', title=\"Results of Test Set Prediction\")\n",
    "fig2.show()"
   ]
  },
  {
   "cell_type": "markdown",
   "id": "fa8cb590",
   "metadata": {},
   "source": [
    "# Part II: Apply Model to an Uncontrolled Dataset"
   ]
  },
  {
   "cell_type": "markdown",
   "id": "b5f07ebe",
   "metadata": {},
   "source": [
    "At this point, we have trained and tested our model.  We can now apply it to a fresh, uncontrolled dataset.  Generate a new set with the same search logic used before: \n",
    "    eventid:(800|1) userID:<yourIDformat> NOT commandline:*.ps1*\n",
    "    \n",
    "This version does not need to be categorized as obfuscated|non-obfuscated; we are going to let the model predict this for each entry in the dataset with the predict() function. The code will then scatterplot the results and output any commands found to be obfuscated."
   ]
  },
  {
   "cell_type": "code",
   "execution_count": null,
   "id": "20902366",
   "metadata": {},
   "outputs": [],
   "source": [
    "# Niiiiiiiiiiiice.\n",
    "\n",
    "# Let's use this to find obfuscation in a new, uncontrolled set of Powershell commands.\n",
    "# Apply the model to a new, uncontrolled dataset, and return items predicted to be obfuscated by the model.\n",
    "file2 = input(\"Enter the location of a CSV file:\")\n",
    "path = os.path.dirname(file2)\n",
    "newdf = pd.read_csv(file2, encoding=\"ANSI\", header=0)\n",
    "\n",
    "# Strip off leading/trailing whitespace\n",
    "newdf['commandline'] = newdf['commandline'].str.strip()\n",
    "\n",
    "# Create a \"length\" column, containing the string length of each command\n",
    "newdf['length'] = newdf['commandline'].str.len()\n",
    "\n",
    "newdf = newdf.dropna(axis=0)\n",
    "print('Ingested ' + str(newdf.shape[0]) + ' lines of data')"
   ]
  },
  {
   "cell_type": "code",
   "execution_count": null,
   "id": "da8fbee0",
   "metadata": {},
   "outputs": [],
   "source": [
    "# Build features for this dataset\n",
    "\n",
    "newdf['semicoloncount'] = newdf['commandline'].str.count('\\;')\n",
    "newdf['doublequotecount'] = newdf['commandline'].str.count('\\\"')\n",
    "newdf['singlequotecount'] = newdf['commandline'].str.count('\\'')\n",
    "newdf['backtickcount'] = newdf['commandline'].str.count('\\`')\n",
    "newdf['plussigncount'] = newdf['commandline'].str.count('\\+')\n",
    "newdf['leftbracecount'] = newdf['commandline'].str.count('\\{')\n",
    "newdf['leftbracketcount'] = newdf['commandline'].str.count('\\[')\n",
    "newdf['leftparencount'] = newdf['commandline'].str.count('\\(')\n",
    "newdf['pipecount'] = newdf['commandline'].str.count('\\|')\n",
    "newdf['alphacount'] = newdf['commandline'].str.count('[a-zA-Z]')\n",
    "newdf['camelswitchcount'] = newdf['commandline'].str.count('[a-z][A-Z]|[A-Z][a-z]')\n",
    "newdf['dollarsigncount'] = newdf['commandline'].str.count('\\$')\n",
    "newdf['digitcount'] = newdf['commandline'].str.count('[0-9]')\n",
    "\n",
    "X_new = newdf[['length', 'semicoloncount', 'doublequotecount', 'singlequotecount', 'backtickcount', 'plussigncount', 'leftbracecount','leftbracketcount', 'leftparencount', 'pipecount', 'alphacount', 'camelswitchcount', 'dollarsigncount', 'digitcount']]\n"
   ]
  },
  {
   "cell_type": "code",
   "execution_count": null,
   "id": "61a1f6a8",
   "metadata": {},
   "outputs": [],
   "source": [
    "# Use the predict() function on your new uncontrolled data and collect the results.\n",
    "\n",
    "y_new = svc.predict(X_new)\n",
    "newdf['prediction'] = y_new"
   ]
  },
  {
   "cell_type": "code",
   "execution_count": null,
   "id": "625f063b",
   "metadata": {},
   "outputs": [],
   "source": [
    "# Scatterplot the results\n",
    "\n",
    "newdf['prediction'] = newdf['prediction'].astype(str) #for categorical graphing purposes\n",
    "fig3 = px.scatter(newdf, x='length', y='alphacount', color='prediction', hover_name='commandline', title='Classification of Obfuscated/Non-Obfuscated Commands')\n",
    "fig3.show()\n",
    "newdf['prediction'] = newdf['prediction'].astype(int) #flip it back after graphing"
   ]
  },
  {
   "cell_type": "code",
   "execution_count": null,
   "id": "38a80686",
   "metadata": {},
   "outputs": [],
   "source": [
    "# Find commands predicted to be obfuscated, export results to csv\n",
    "\n",
    "obfuscatedcommands = newdf[newdf['prediction'] == 1]\n",
    "originaldatasize = newdf.shape[0]\n",
    "obfuscatedcount = obfuscatedcommands.shape[0]\n",
    "obfuscatedpercentage = (obfuscatedcount/originaldatasize) * 100\n",
    "\n",
    "print (\"Obfuscated commands found: \" + str(obfuscatedcount) + \" of \" + str(originaldatasize) + \", \" + str(obfuscatedpercentage) + \"%\")\n",
    "obfuscatedcommands[['commandline', 'length', 'alphacount']].to_csv(os.path.join(path, 'predictedobfuscated.csv'), encoding=\"ANSI\", header=0)"
   ]
  },
  {
   "cell_type": "code",
   "execution_count": null,
   "id": "9248491b",
   "metadata": {},
   "outputs": [],
   "source": []
  }
 ],
 "metadata": {
  "kernelspec": {
   "display_name": "Python 3",
   "language": "python",
   "name": "python3"
  },
  "language_info": {
   "codemirror_mode": {
    "name": "ipython",
    "version": 3
   },
   "file_extension": ".py",
   "mimetype": "text/x-python",
   "name": "python",
   "nbconvert_exporter": "python",
   "pygments_lexer": "ipython3",
   "version": "3.8.8"
  }
 },
 "nbformat": 4,
 "nbformat_minor": 5
}
